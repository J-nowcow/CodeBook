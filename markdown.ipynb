{
 "cells": [
  {
   "cell_type": "markdown",
   "metadata": {},
   "source": [
    "# 마크다운 사용법 정리\n",
    "\n"
   ]
  },
  {
   "cell_type": "markdown",
   "metadata": {},
   "source": [
    "## 0. 줄바꿈\n",
    "--------------------------  \n",
    "<br>\n",
    "마크다운에서 줄바꿈을 하려면 enter 한번으로는 안되고, 다음과 같이 해줘야함  \n",
    "\n",
    "```\n",
    "(1) Enter 두번 입력하기\n",
    "안녕?\n",
    "\n",
    "안녕!\n",
    "(2) 문장 끝에 띄어쓰기 2개 넣어주기\n",
    "Hello?  \n",
    "Hello!\n",
    "(3) 문장 끝에 <br> 태그 달아주기\n",
    "おはよう?<br>\n",
    "おはよう!\n",
    "```\n",
    "안녕?\n",
    "\n",
    "안녕!  \n",
    "\n",
    "Hello?  \n",
    "Hello!\n",
    "\n",
    "おはよう?<br>\n",
    "おはよう!"
   ]
  },
  {
   "cell_type": "markdown",
   "metadata": {},
   "source": [
    "## 1.제목(Headers)\n",
    "\n",
    "---------------------------------------\n",
    "제목을 다는 방법은 두가지임  \n",
    "첫번째는 ====, ---- 이용하기 (제목, 부제목)\n",
    "```\n",
    "Hello\n",
    "====\n",
    "Hello\n",
    "----\n",
    "```\n",
    "\n",
    "\n",
    "Hello\n",
    "====\n",
    "Hello\n",
    "----\n",
    "<br>\n",
    "두번째는 # 이용하기 (1개부터 6개까지)\n",
    "\n",
    "```\n",
    "# Hello\n",
    "## Hello\n",
    "### Hello\n",
    "#### Hello\n",
    "##### Hello\n",
    "###### Hello\n",
    "###### Hello\n",
    "```\n",
    "\n",
    "# Hello\n",
    "## Hello\n",
    "### Hello\n",
    "#### Hello\n",
    "##### Hello\n",
    "###### Hello\n",
    "####### Hello"
   ]
  },
  {
   "cell_type": "markdown",
   "metadata": {},
   "source": [
    "## 2."
   ]
  },
  {
   "cell_type": "code",
   "execution_count": null,
   "metadata": {},
   "outputs": [],
   "source": []
  },
  {
   "cell_type": "code",
   "execution_count": null,
   "metadata": {},
   "outputs": [],
   "source": []
  }
 ],
 "metadata": {
  "kernelspec": {
   "display_name": "Python 3",
   "language": "python",
   "name": "python3"
  },
  "language_info": {
   "codemirror_mode": {
    "name": "ipython",
    "version": 3
   },
   "file_extension": ".py",
   "mimetype": "text/x-python",
   "name": "python",
   "nbconvert_exporter": "python",
   "pygments_lexer": "ipython3",
   "version": "3.7.4"
  }
 },
 "nbformat": 4,
 "nbformat_minor": 2
}
